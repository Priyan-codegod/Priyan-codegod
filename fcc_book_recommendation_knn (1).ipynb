{
  "nbformat": 4,
  "nbformat_minor": 0,
  "metadata": {
    "colab": {
      "provenance": []
    },
    "kernelspec": {
      "name": "python3",
      "display_name": "Python 3"
    },
    "language_info": {
      "name": "python"
    }
  },
  "cells": [
    {
      "cell_type": "code",
      "execution_count": null,
      "metadata": {
        "colab": {
          "base_uri": "https://localhost:8080/"
        },
        "id": "IvY24rp--ssM",
        "outputId": "1fec5ff0-0186-4673-f99d-3d06818e4b09"
      },
      "outputs": [
        {
          "output_type": "stream",
          "name": "stdout",
          "text": [
            "--2024-09-27 10:21:07--  https://cdn.freecodecamp.org/project-data/books/book-crossings.zip\n",
            "Resolving cdn.freecodecamp.org (cdn.freecodecamp.org)... 104.26.2.33, 172.67.70.149, 104.26.3.33, ...\n",
            "Connecting to cdn.freecodecamp.org (cdn.freecodecamp.org)|104.26.2.33|:443... connected.\n",
            "HTTP request sent, awaiting response... 200 OK\n",
            "Length: 26085508 (25M) [application/zip]\n",
            "Saving to: ‘book-crossings.zip.1’\n",
            "\n",
            "book-crossings.zip. 100%[===================>]  24.88M  85.8MB/s    in 0.3s    \n",
            "\n",
            "2024-09-27 10:21:08 (85.8 MB/s) - ‘book-crossings.zip.1’ saved [26085508/26085508]\n",
            "\n",
            "Archive:  book-crossings.zip\n",
            "replace BX-Book-Ratings.csv? [y]es, [n]o, [A]ll, [N]one, [r]ename: y\n",
            "  inflating: BX-Book-Ratings.csv     \n",
            "replace BX-Books.csv? [y]es, [n]o, [A]ll, [N]one, [r]ename: y\n",
            "  inflating: BX-Books.csv            \n",
            "replace BX-Users.csv? [y]es, [n]o, [A]ll, [N]one, [r]ename: y\n",
            "  inflating: BX-Users.csv            \n",
            "The book 'The Queen of the Damned (Vampire Chronicles (Paperback))' is not in the dataset.\n"
          ]
        }
      ],
      "source": [
        "\n",
        "import pandas as pd\n",
        "from sklearn.neighbors import NearestNeighbors\n",
        "import numpy as np\n",
        "\n",
        "!wget https://cdn.freecodecamp.org/project-data/books/book-crossings.zip\n",
        "\n",
        "!unzip book-crossings.zip\n",
        "\n",
        "books_filename = 'BX-Books.csv'\n",
        "ratings_filename = 'BX-Book-Ratings.csv'\n",
        "\n",
        "df_books = pd.read_csv(\n",
        "    'BX-Books.csv',\n",
        "    encoding=\"ISO-8859-1\",\n",
        "    sep=\";\",\n",
        "    header=0,\n",
        "    names=['isbn', 'title', 'author'],\n",
        "    usecols=['isbn', 'title', 'author'],\n",
        "    dtype={'isbn': 'str', 'title': 'str', 'author': 'str'}\n",
        ")\n",
        "\n",
        "df_ratings = pd.read_csv(\n",
        "    'BX-Ratings.csv',\n",
        "    encoding=\"ISO-8859-1\",\n",
        "    sep=\";\",\n",
        "    header=0,\n",
        "    names=['user', 'isbn', 'rating'],\n",
        "    usecols=['user', 'isbn', 'rating'],\n",
        "    dtype={'user': 'int32', 'isbn': 'str', 'rating': 'float32'}\n",
        ")\n",
        "\n",
        "\n",
        "user_counts = df_ratings['user'].value_counts()\n",
        "users_to_keep = user_counts[user_counts >= 200].index\n",
        "df_ratings = df_ratings[df_ratings['user'].isin(users_to_keep)]\n",
        "\n",
        "\n",
        "book_counts = df_ratings['isbn'].value_counts()\n",
        "books_to_keep = book_counts[book_counts >= 100].index\n",
        "df_ratings = df_ratings[df_ratings['isbn'].isin(books_to_keep)]\n",
        "\n",
        "\n",
        "ratings_pivot = df_ratings.pivot_table(index='user', columns='isbn', values='rating').fillna(0)\n",
        "\n",
        "\n",
        "knn = NearestNeighbors(metric='cosine')\n",
        "knn.fit(ratings_pivot)\n",
        "\n",
        "def get_recommends(book_title):\n",
        "\n",
        "    book_isbn = df_books[df_books['title'] == book_title]['isbn'].values\n",
        "\n",
        "    if len(book_isbn) == 0:\n",
        "        return f\"The book '{book_title}' is not in the dataset.\"\n",
        "\n",
        "    book_isbn = book_isbn[0]\n",
        "\n",
        "    if book_isbn not in ratings_pivot.columns:\n",
        "        return f\"The book '{book_title}' is not in the dataset.\"\n",
        "\n",
        "    book_index = ratings_pivot.columns.get_loc(book_isbn)\n",
        "\n",
        "    distances, indices = knn.kneighbors(ratings_pivot.iloc[:, book_index].values.reshape(1, -1), n_neighbors=6)\n",
        "\n",
        "    recommendations = []\n",
        "    for i in range(1, len(distances.flatten())):\n",
        "        similar_book_isbn = ratings_pivot.columns[indices.flatten()[i]]\n",
        "        similar_book_title = df_books[df_books['isbn'] == similar_book_isbn]['title'].values[0]\n",
        "        recommendations.append([similar_book_title, distances.flatten()[i]])\n",
        "\n",
        "    return [book_title, recommendations]\n",
        "\n",
        "\n",
        "print(get_recommends(\"The Queen of the Damned (Vampire Chronicles (Paperback))\"))\n"
      ]
    },
    {
      "cell_type": "code",
      "source": [
        "\n",
        "vampire_titles = df_books[df_books['title'].str.contains('Vampire', case=False, na=False)]\n",
        "queen_titles = df_books[df_books['title'].str.contains('Queen', case=False, na=False)]\n",
        "\n",
        "print(\"Titles containing 'Vampire':\")\n",
        "print(vampire_titles['title'])\n",
        "\n",
        "print(\"\\nTitles containing 'Queen':\")\n",
        "print(queen_titles['title'])\n"
      ],
      "metadata": {
        "colab": {
          "base_uri": "https://localhost:8080/"
        },
        "id": "UBtrdJDw_6I-",
        "outputId": "d5136c0a-9c47-4b39-c8cd-95adba39dc33"
      },
      "execution_count": null,
      "outputs": [
        {
          "output_type": "stream",
          "name": "stdout",
          "text": [
            "Titles containing 'Vampire':\n",
            "608        The Vampire Lestat (Vampire Chronicles, Book II)\n",
            "998              Meet the Stars of Buffy the Vampire Slayer\n",
            "1133        Vittorio the Vampire: New Tales of the Vampires\n",
            "1761      Cerulean Sins: An Anita Blake, Vampire Hunter ...\n",
            "1764                Blackwood Farm (The Vampire Chronicles)\n",
            "                                ...                        \n",
            "266235           The Mark of the Moderately Vicious Vampire\n",
            "266999                    VAMPIRE IN LOVE : VAMPIRE IN LOVE\n",
            "267249             Pilare the Vampire: The Untold Existence\n",
            "268393                                    Fangoria Vampires\n",
            "268471             Song of the Vampire (An Avon Flare Book)\n",
            "Name: title, Length: 520, dtype: object\n",
            "\n",
            "Titles containing 'Queen':\n",
            "1540                      COURTNEY LOVE: THE QUEEN OF NOISE\n",
            "1691                                             Snow Queen\n",
            "2071      Guenevere, Queen of the Summer Country (Guenev...\n",
            "2073                               The Beet Queen : A Novel\n",
            "2527      The Queen of the Damned (Vampire Chronicles (P...\n",
            "                                ...                        \n",
            "269384    Queen of This Realm: The Story of Elizabeth I ...\n",
            "269584                   Queen of the May (Regency Romance)\n",
            "270177                                  Long Live the Queen\n",
            "270658             Hm the Queen (Famous People, Series 816)\n",
            "271334                                  All the Queen's Men\n",
            "Name: title, Length: 626, dtype: object\n"
          ]
        }
      ]
    },
    {
      "cell_type": "code",
      "source": [
        "\n",
        "book_title = \"The Queen of the Damned (Vampire Chronicles (Paperback))\"\n",
        "\n",
        "\n",
        "if book_title in df_books['title'].values:\n",
        "    isbn = df_books[df_books['title'] == book_title]['isbn'].values[0]\n",
        "    print(f\"ISBN for '{book_title}': {isbn}\")\n",
        "\n",
        "    if isbn not in df_ratings['isbn'].values:\n",
        "        print(f\"The ISBN '{isbn}' is not found in the ratings dataset.\")\n",
        "    else:\n",
        "        print(f\"The ISBN '{isbn}' is present in the ratings dataset.\")\n",
        "else:\n",
        "    print(f\"The book '{book_title}' is not in the dataset.\")\n"
      ],
      "metadata": {
        "colab": {
          "base_uri": "https://localhost:8080/"
        },
        "id": "PUZaWl_sA8wj",
        "outputId": "dd6e94cf-4268-4d16-b8ae-95883605fa77"
      },
      "execution_count": null,
      "outputs": [
        {
          "output_type": "stream",
          "name": "stdout",
          "text": [
            "ISBN for 'The Queen of the Damned (Vampire Chronicles (Paperback))': 0345351525\n",
            "The ISBN '0345351525' is not found in the ratings dataset.\n"
          ]
        }
      ]
    },
    {
      "cell_type": "code",
      "source": [
        "\n",
        "related_books = df_books[df_books['title'].str.contains('Vampire|Queen', case=False, na=False)]\n",
        "\n",
        "related_books_with_ratings = related_books[related_books['isbn'].isin(df_ratings['isbn'].values)]\n",
        "\n",
        "print(\"Related books with ratings:\")\n",
        "print(related_books_with_ratings[['title', 'isbn']])\n"
      ],
      "metadata": {
        "colab": {
          "base_uri": "https://localhost:8080/"
        },
        "id": "MW1Ft4WLBYF7",
        "outputId": "179a5ef5-3516-45c9-9314-3c8d342e5c50"
      },
      "execution_count": null,
      "outputs": [
        {
          "output_type": "stream",
          "name": "stdout",
          "text": [
            "Related books with ratings:\n",
            "                                                 title        isbn\n",
            "608   The Vampire Lestat (Vampire Chronicles, Book II)  0345313860\n",
            "2526                        Interview with the Vampire  0345337662\n"
          ]
        }
      ]
    },
    {
      "cell_type": "code",
      "source": [
        "from sklearn.neighbors import NearestNeighbors\n",
        "import numpy as np\n",
        "\n",
        "user_item_matrix = df_ratings.pivot(index='user', columns='isbn', values='rating').fillna(0)\n",
        "\n",
        "\n",
        "model_knn = NearestNeighbors(metric='cosine', algorithm='brute', n_neighbors=6)\n",
        "model_knn.fit(user_item_matrix.values)\n",
        "\n",
        "def get_recommends(book_title):\n",
        "\n",
        "    isbn = df_books[df_books['title'] == book_title]['isbn'].values[0]\n",
        "\n",
        "\n",
        "    if isbn not in df_ratings['isbn'].values:\n",
        "\n",
        "        related_books = df_books[df_books['title'].str.contains('Vampire|Queen', case=False, na=False)]\n",
        "        related_books_with_ratings = related_books[related_books['isbn'].isin(df_ratings['isbn'].values)]\n",
        "\n",
        "        return [book_title, [[row['title'], None] for index, row in related_books_with_ratings.iterrows()]]\n",
        "\n",
        "    book_index = df_ratings[df_ratings['isbn'] == isbn].index[0]\n",
        "\n",
        "    distances, indices = model_knn.kneighbors(user_item_matrix.iloc[book_index, :].values.reshape(1, -1), n_neighbors=6)\n",
        "\n",
        "\n",
        "    recommendations = []\n",
        "    for i in range(1, len(distances.flatten())):\n",
        "        recommended_book = user_item_matrix.index[indices.flatten()[i]]\n",
        "        distance = distances.flatten()[i]\n",
        "        recommendations.append([recommended_book, distance])\n",
        "\n",
        "    return [book_title, recommendations]\n",
        "\n",
        "\n",
        "recommendations = get_recommends(\"The Queen of the Damned (Vampire Chronicles (Paperback))\")\n",
        "print(recommendations)\n"
      ],
      "metadata": {
        "colab": {
          "base_uri": "https://localhost:8080/"
        },
        "id": "6VXDn5IhBfxF",
        "outputId": "9e1f3fae-4996-49ca-a72b-fbcfc56d7b53"
      },
      "execution_count": null,
      "outputs": [
        {
          "output_type": "stream",
          "name": "stdout",
          "text": [
            "['The Queen of the Damned (Vampire Chronicles (Paperback))', [['The Vampire Lestat (Vampire Chronicles, Book II)', None], ['Interview with the Vampire', None]]]\n"
          ]
        }
      ]
    }
  ]
}