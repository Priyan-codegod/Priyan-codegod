{
  "nbformat": 4,
  "nbformat_minor": 0,
  "metadata": {
    "colab": {
      "provenance": []
    },
    "kernelspec": {
      "name": "python3",
      "display_name": "Python 3"
    },
    "language_info": {
      "name": "python"
    }
  },
  "cells": [
    {
      "cell_type": "code",
      "execution_count": null,
      "metadata": {
        "id": "D5Bkywu76Hsz"
      },
      "outputs": [],
      "source": [
        "\n",
        "import pandas as pd\n",
        "import numpy as np\n",
        "from sklearn.feature_extraction.text import CountVectorizer\n",
        "from sklearn.naive_bayes import MultinomialNB\n",
        "from sklearn.pipeline import make_pipeline\n",
        "from sklearn.model_selection import train_test_split\n"
      ]
    },
    {
      "cell_type": "code",
      "source": [
        "!wget https://cdn.freecodecamp.org/project-data/sms/train-data.tsv\n",
        "!wget https://cdn.freecodecamp.org/project-data/sms/valid-data.tsv\n",
        "\n",
        "data_train = pd.read_csv(\"train-data.tsv\", sep=\"\\t\")\n",
        "data_valid = pd.read_csv(\"valid-data.tsv\", sep=\"\\t\")\n",
        "\n",
        "print(\"Training Data:\")\n",
        "print(data_train.head())\n",
        "\n",
        "print(\"\\nValidation Data:\")\n",
        "print(data_valid.head())\n"
      ],
      "metadata": {
        "colab": {
          "base_uri": "https://localhost:8080/"
        },
        "collapsed": true,
        "id": "G9lyMLJt6uQD",
        "outputId": "662cab8f-6be6-4cc3-bd3b-4865af5b8a85"
      },
      "execution_count": null,
      "outputs": [
        {
          "output_type": "stream",
          "name": "stdout",
          "text": [
            "--2024-09-27 10:00:56--  https://cdn.freecodecamp.org/project-data/sms/train-data.tsv\n",
            "Resolving cdn.freecodecamp.org (cdn.freecodecamp.org)... 104.26.3.33, 104.26.2.33, 172.67.70.149, ...\n",
            "Connecting to cdn.freecodecamp.org (cdn.freecodecamp.org)|104.26.3.33|:443... connected.\n",
            "HTTP request sent, awaiting response... 200 OK\n",
            "Length: 358233 (350K) [text/tab-separated-values]\n",
            "Saving to: ‘train-data.tsv.2’\n",
            "\n",
            "\rtrain-data.tsv.2      0%[                    ]       0  --.-KB/s               \rtrain-data.tsv.2    100%[===================>] 349.84K  --.-KB/s    in 0.03s   \n",
            "\n",
            "2024-09-27 10:00:56 (10.1 MB/s) - ‘train-data.tsv.2’ saved [358233/358233]\n",
            "\n",
            "--2024-09-27 10:00:56--  https://cdn.freecodecamp.org/project-data/sms/valid-data.tsv\n",
            "Resolving cdn.freecodecamp.org (cdn.freecodecamp.org)... 104.26.3.33, 104.26.2.33, 172.67.70.149, ...\n",
            "Connecting to cdn.freecodecamp.org (cdn.freecodecamp.org)|104.26.3.33|:443... connected.\n",
            "HTTP request sent, awaiting response... 200 OK\n",
            "Length: 118774 (116K) [text/tab-separated-values]\n",
            "Saving to: ‘valid-data.tsv.2’\n",
            "\n",
            "valid-data.tsv.2    100%[===================>] 115.99K  --.-KB/s    in 0.02s   \n",
            "\n",
            "2024-09-27 10:00:57 (6.31 MB/s) - ‘valid-data.tsv.2’ saved [118774/118774]\n",
            "\n",
            "Training Data:\n",
            "   ham  \\\n",
            "0  ham   \n",
            "1  ham   \n",
            "2  ham   \n",
            "3  ham   \n",
            "4  ham   \n",
            "\n",
            "  ahhhh...just woken up!had a bad dream about u tho,so i dont like u right now :) i didnt know anything about comedy night but i guess im up for it.  \n",
            "0                           you can never do nothing                                                                                                  \n",
            "1  now u sound like manky scouse boy steve,like! ...                                                                                                  \n",
            "2  mum say we wan to go then go... then she can s...                                                                                                  \n",
            "3  never y lei... i v lazy... got wat? dat day ü ...                                                                                                  \n",
            "4  in xam hall boy asked girl tell me the startin...                                                                                                  \n",
            "\n",
            "Validation Data:\n",
            "   ham i am in hospital da. . i will return home in evening\n",
            "0  ham         not much, just some textin'. how bout you?  \n",
            "1  ham  i probably won't eat at all today. i think i'm...  \n",
            "2  ham  don‘t give a flying monkeys wot they think and...  \n",
            "3  ham                                who are you seeing?  \n",
            "4  ham  your opinion about me? 1. over 2. jada 3. kusr...  \n"
          ]
        }
      ]
    },
    {
      "cell_type": "code",
      "source": [
        "import pandas as pd\n",
        "from sklearn.feature_extraction.text import CountVectorizer\n",
        "from sklearn.naive_bayes import MultinomialNB\n",
        "from sklearn.pipeline import make_pipeline\n",
        "\n",
        "!wget https://cdn.freecodecamp.org/project-data/sms/train-data.tsv\n",
        "!wget https://cdn.freecodecamp.org/project-data/sms/valid-data.tsv\n",
        "\n",
        "data_train = pd.read_csv(\"train-data.tsv\", sep=\"\\t\", header= None)\n",
        "data_valid = pd.read_csv(\"valid-data.tsv\", sep=\"\\t\", header=None)\n",
        "data_train.columns = ['label', 'message']\n",
        "data_valid.columns = ['label', 'message']\n",
        "\n",
        "print(\"Columns in training data:\", data_train.columns)\n",
        "print(\"Columns in validation data:\", data_valid.columns)\n",
        "\n",
        "print(\"First few rows of training data:\")\n",
        "print(data_train.head())\n",
        "\n",
        "print(\"Number of empty messages in training data:\", data_train['message'].isnull().sum())\n",
        "\n",
        "data_train = data_train.dropna(subset=['message'])\n",
        "data_valid = data_valid.dropna(subset=['message'])\n",
        "\n",
        "data_train = data_train[data_train['message'].str.strip().astype(bool)]\n",
        "data_valid = data_valid[data_valid['message'].str.strip().astype(bool)]\n",
        "\n",
        "data_train['label'] = data_train['label'].map({'ham': 0, 'spam': 1})\n",
        "data_valid['label'] = data_valid['label'].map({'ham': 0, 'spam': 1})\n",
        "\n",
        "data_train = data_train.dropna(subset=['label'])\n",
        "data_valid = data_valid.dropna(subset=['label'])\n",
        "\n",
        "X_train = data_train['message']\n",
        "y_train = data_train['label']\n",
        "X_valid = data_valid['message']\n",
        "y_valid = data_valid['label']\n",
        "\n",
        "model = make_pipeline(CountVectorizer(), MultinomialNB())\n",
        "model.fit(X_train, y_train)\n",
        "\n",
        "validation_accuracy = model.score(X_valid, y_valid)\n",
        "print(f\"\\nValidation Accuracy: {validation_accuracy * 100:.2f}%\")\n",
        "\n",
        "def predict_message(message):\n",
        "    prediction = model.predict([message])[0]\n",
        "    probability = model.predict_proba([message])[0][prediction]\n",
        "    label = \"spam\" if prediction == 1 else \"ham\"\n",
        "    return [probability, label]\n",
        "\n",
        "test_messages = [\n",
        "    \"Congratulations! You've won a free ticket!\",\n",
        "    \"Hey, how are you doing today?\",\n",
        "    \"Click here to claim your prize now!\",\n",
        "    \"Are we still on for dinner tonight?\"\n",
        "]\n",
        "\n",
        "for msg in test_messages:\n",
        "    result = predict_message(msg)\n",
        "    print(f\"Message: '{msg}' => Prediction: {result[0]:.2f}, Label: {result[1]}\")"
      ],
      "metadata": {
        "colab": {
          "base_uri": "https://localhost:8080/"
        },
        "id": "taQ3MCBQ67v7",
        "outputId": "d5c2507e-df5d-4651-ae6e-fe3b599481fe"
      },
      "execution_count": null,
      "outputs": [
        {
          "output_type": "stream",
          "name": "stdout",
          "text": [
            "--2024-09-27 10:10:58--  https://cdn.freecodecamp.org/project-data/sms/train-data.tsv\n",
            "Resolving cdn.freecodecamp.org (cdn.freecodecamp.org)... 172.67.70.149, 104.26.3.33, 104.26.2.33, ...\n",
            "Connecting to cdn.freecodecamp.org (cdn.freecodecamp.org)|172.67.70.149|:443... connected.\n",
            "HTTP request sent, awaiting response... 200 OK\n",
            "Length: 358233 (350K) [text/tab-separated-values]\n",
            "Saving to: ‘train-data.tsv.5’\n",
            "\n",
            "\rtrain-data.tsv.5      0%[                    ]       0  --.-KB/s               \rtrain-data.tsv.5    100%[===================>] 349.84K  --.-KB/s    in 0.03s   \n",
            "\n",
            "2024-09-27 10:10:58 (11.1 MB/s) - ‘train-data.tsv.5’ saved [358233/358233]\n",
            "\n",
            "--2024-09-27 10:10:58--  https://cdn.freecodecamp.org/project-data/sms/valid-data.tsv\n",
            "Resolving cdn.freecodecamp.org (cdn.freecodecamp.org)... 172.67.70.149, 104.26.3.33, 104.26.2.33, ...\n",
            "Connecting to cdn.freecodecamp.org (cdn.freecodecamp.org)|172.67.70.149|:443... connected.\n",
            "HTTP request sent, awaiting response... 200 OK\n",
            "Length: 118774 (116K) [text/tab-separated-values]\n",
            "Saving to: ‘valid-data.tsv.5’\n",
            "\n",
            "valid-data.tsv.5    100%[===================>] 115.99K  --.-KB/s    in 0.02s   \n",
            "\n",
            "2024-09-27 10:10:58 (6.71 MB/s) - ‘valid-data.tsv.5’ saved [118774/118774]\n",
            "\n",
            "Columns in training data: Index(['label', 'message'], dtype='object')\n",
            "Columns in validation data: Index(['label', 'message'], dtype='object')\n",
            "First few rows of training data:\n",
            "  label                                            message\n",
            "0   ham  ahhhh...just woken up!had a bad dream about u ...\n",
            "1   ham                           you can never do nothing\n",
            "2   ham  now u sound like manky scouse boy steve,like! ...\n",
            "3   ham  mum say we wan to go then go... then she can s...\n",
            "4   ham  never y lei... i v lazy... got wat? dat day ü ...\n",
            "Number of empty messages in training data: 0\n",
            "\n",
            "Validation Accuracy: 98.78%\n",
            "Message: 'Congratulations! You've won a free ticket!' => Prediction: 0.96, Label: spam\n",
            "Message: 'Hey, how are you doing today?' => Prediction: 1.00, Label: ham\n",
            "Message: 'Click here to claim your prize now!' => Prediction: 1.00, Label: spam\n",
            "Message: 'Are we still on for dinner tonight?' => Prediction: 1.00, Label: ham\n"
          ]
        }
      ]
    }
  ]
}